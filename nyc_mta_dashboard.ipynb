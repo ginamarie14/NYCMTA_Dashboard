# NYC MTA Dashboard:
## What does access to public transportation look like across the 5 boroughs?

### Introduction

This interactive dashboard uses Plotly and Dash to give an image of access to public transit across New York City's five boroughs. The inspiration behind this is actually the reason I joined MADS; as a graduate in geography specializing in urban development and regional planning, I have long looked for ways to better urban spaces and make them more accessible for the people that live in them. A big driver in urban accessibility, or accessibility anywhere, is the means of transportation available to the public.

Paris, France is now known as the 15-minute city, because you can access schools, pharmacies, banks, public transportation, hospitals, supermarkets, and restaurants within 15 minutes of any point. This has been proven to improve quality of life across multiple aspects, including more resilient local economies, reduced traffic, and access to educational and cultural resources.

While New York City is more than 10x larger than Paris, the possibility exists to imagine a 30-minute city in the same vain, and it is my belief that access to public transportation is the first step in achieving such a feat. For this reason, I believe that the first step to improving urban planning in New York would be to evaulate the current state of public transportation across the boroughs.

Some questions we will observe and hope to answer are:

- Which neighborhoods have the best and worst access to subway stations?
- How does service change throughout the day?
- Is there a relationship between population density and transit accessibility?
- Are all boroughs created equal as far as access to public transit?

This interactive dashboard combines multiple visualization techniques to tell a comprehensive story about transit equity in one of the world's most transit-dependent cities.

### 1. Visualization Technique (25%)

#### Visualization Types

This dashboard uses four visualization techniques to illustrate a story about New York City public transit accessibility:

**1. Choropleth Map**: This spatial visualization uses color gradients to represent transit accessibility scores across NYC neighborhoods. When it comes to urban planning, maps are always the first way of illustrating patterns across a given geography. The color intensity will depend on the public transit accessibility of an area, with a deeper color showing more access and lighter shades indicating less access.

**2. Bar Chart**: While maps show the "where" of public transit accessibility, bar charts show the "how much." By sorting neighborhoods from highest to lowest on metrics like stations per square mile, the bar charts will give a visual that will highlights the differences between neighborhoods. Bar charts are great for quick comparative analysis, and we'll how neighborhoods stack up against each other. Bar charts work best when we compare a single metric across multiple categories (the categories being neighborhoods).

**3. Line Chart**: Public transit service isn't consistent at all hours of the day; train and bus frequency varies throughout the day and week. With line charts, we can show how service frequency fluctuates across time. In this project's context, we will observe how frequency changes and explore how this may affect residents. This being a classic time series, a line chart is a sure way to measure variables over time.

**4. Scatter Plot with Regression**: This visualization explores relationships between variables. In this case, it will show how transit accessibility correlates with neighborhood characteristics like population density. The regression line will give us a quick visual representative of correlation strength, while the individual points will help notice outliers, like neighborhoods with unusually good or poor transit service relative to their demographic profile.

#### How These Visualizations Complement Each Other

These visualizations complement each other by addressing different dimensions of public transit accessibility:

- **Spatial Dimension**: How is public transit service distributed? (Map)
- **Comparative Dimension**: How does it vary across neighborhoods? (Bar Chart)
- **Temporal Dimension**: When is service available? (Line Chart)
- **Relational Dimension**: How does it relate to population density? (Scatter Plot)

Together, they create a multi-dimensional understanding of public transit accessibility that would be impossible with any single visualization method.
For example, the map might show that a neighborhood has few stations (appearing light-colored), but the line chart might reveal that those stations have very frequent service, painting a more nuanced picture of accessibility.

#### Dashboard-specific Considerations and Interactivity

The dashboard implements several interactive features to enhance exploration:

1. **Borough Filtering**: Users can focus on specific boroughs to compare neighborhoods within the same region.
2. **Station Count Range Selection**: This allows filtering neighborhoods by their level of transit service.
3. **Cross-filtering**: Selecting a neighborhood on the map highlights its data in all other visualizations.
4. **Hover Information**: Detailed metrics appear when hovering over elements in any visualization.

These interactive elements transform static visualizations into an exploratory tool where users can test hypotheses and discover patterns. For instance, a user might wonder if Brooklyn neighborhoods have better service than Queens, and could quickly filter to compare these boroughs.



### 2. Visualization Library (25%)

#### Dashboard Framework and Libraries

This dashboard utilizes **Plotly** and **Dash**:

- **Plotly** is an open-source graphing library that produces interactive, polished graphs.
- **Dash** is a framework for building web applications with Python, built on top of Plotly.

**Creator and License**: Plotly and Dash were created by Plotly Technologies Inc. and are available under an MIT license, making them fully open-source and free to use for both personal and commercial projects.

**Installation**: These libraries can be easily installed via pip:

```bash
pip install plotly dash dash-bootstrap-components
pip install pandas geopandas numpy requests



### 3. Demonstration (50%)

#### Dataset Selection and Data Processing

For this dashboard, we'll use the following datasets:

1. **MTA GTFS Data**: NYC MTA subway routes, stops, and schedules
2. **NYC Neighborhood Tabulation Areas (NTAs)**: Geographic boundaries of NYC neighborhoods
3. **NYC Population Data**: Population statistics by neighborhood

Let's begin by installing the necessary packages and importing libraries:

# Install required packages if not already installed
!pip install pandas geopandas numpy matplotlib plotly dash jupyterdash requests shapely

# Import libraries
import pandas as pd
import geopandas as gpd
import numpy as np
import matplotlib.pyplot as plt
import plotly.express as px
import plotly.graph_objects as go
from dash import Dash, dcc, html, Input, Output
from jupyter_dash import JupyterDash
import requests
import zipfile
import io
import os
from shapely.geometry import Point

# Set Plotly to display in notebook
import plotly.io as pio
pio.renderers.default = 'notebook'


# Create a data directory if it doesn't exist
if not os.path.exists('data'):
    os.makedirs('data')

# Function to download MTA GTFS data
def download_mta_gtfs():
    url = 'http://web.mta.info/developers/data/nyct/subway/google_transit.zip'
    print("Downloading MTA GTFS data...")
    
    # Check if data already exists
    if os.path.exists('data/mta_gtfs/stops.txt'):
        print("MTA GTFS data already exists.")
        return
    
    # Create directory if it doesn't exist
    if not os.path.exists('data/mta_gtfs'):
        os.makedirs('data/mta_gtfs')
    
    response = requests.get(url)
    
    # Check if the request was successful
    if response.status_code == 200:
        z = zipfile.ZipFile(io.BytesIO(response.content))
        z.extractall('data/mta_gtfs')
        print("MTA GTFS data downloaded and extracted to data/mta_gtfs")
    else:
        print(f"Failed to download MTA GTFS data. Status code: {response.status_code}")

# Function to download NYC neighborhood boundaries
def download_nyc_neighborhoods():
    url = 'https://data.cityofnewyork.us/api/geospatial/d3qk-pfyz?method=export&format=Shapefile'
    print("Downloading NYC Neighborhood data...")
    
    # Check if data already exists
    if os.path.exists('data/nyc_neighborhoods'):
        print("NYC Neighborhood data already exists.")
        return
    
    response = requests.get(url)
    
    # Check if the request was successful
    if response.status_code == 200:
        with open('data/nyc_neighborhoods.zip', 'wb') as f:
            f.write(response.content)
        
        # Extract the shapefile
        z = zipfile.ZipFile('data/nyc_neighborhoods.zip')
        z.extractall('data/nyc_neighborhoods')
        print("NYC Neighborhood data downloaded and extracted to data/nyc_neighborhoods")
    else:
        print(f"Failed to download NYC Neighborhood data. Status code: {response.status_code}")

# Function to download population data by NTA
def download_population_data():
    url = 'https://data.cityofnewyork.us/api/views/swpk-hqdp/rows.csv'
    print("Downloading NYC Population data...")
    
    # Check if data already exists
    if os.path.exists('data/nyc_population.csv'):
        print("NYC Population data already exists.")
        population_df = pd.read_csv('data/nyc_population.csv')
        return population_df
    
    try:
        population_df = pd.read_csv(url)
        population_df.to_csv('data/nyc_population.csv', index=False)
        print("NYC Population data downloaded to data/nyc_population.csv")
        return population_df
    except Exception as e:
        print(f"Failed to download NYC Population data: {e}")
        
        # Create a simplified mock population dataset if download fails
        print("Creating mock population data for demonstration")
        mock_pop = pd.DataFrame({
            'NTA Code': ['BX01', 'BX02', 'BX03'], 
            'NTA Name': ['Claremont-Bathgate', 'Hunts Point', 'Eastchester-Edenwald'],
            'Borough': ['Bronx', 'Bronx', 'Bronx'],
            'Population': [30000, 25000, 35000]
        })
        mock_pop.to_csv('data/nyc_population.csv', index=False)
        return mock_pop

# Download the data
download_mta_gtfs()
download_nyc_neighborhoods()
population_df = download_population_data()


# Load GTFS data
def load_gtfs_data():
    gtfs_path = 'data/mta_gtfs'
    
    # Load the main GTFS files we'll need
    stops = pd.read_csv(f'{gtfs_path}/stops.txt')
    routes = pd.read_csv(f'{gtfs_path}/routes.txt')
    trips = pd.read_csv(f'{gtfs_path}/trips.txt')
    stop_times = pd.read_csv(f'{gtfs_path}/stop_times.txt')
    calendar = pd.read_csv(f'{gtfs_path}/calendar.txt')
    
    print(f"Loaded {len(stops)} stops")
    print(f"Loaded {len(routes)} routes")
    print(f"Loaded {len(trips)} trips")
    print(f"Loaded {len(stop_times)} stop times")
    print(f"Loaded {len(calendar)} calendar entries")
    
    return {
        'stops': stops,
        'routes': routes,
        'trips': trips,
        'stop_times': stop_times,
        'calendar': calendar
    }

# Load neighborhood data
def load_neighborhood_data():
    # Load the shapefile
    nyc_neighborhoods = gpd.read_file('data/nyc_neighborhoods')
    print(f"Loaded {len(nyc_neighborhoods)} neighborhoods")
    return nyc_neighborhoods

# Load the data
gtfs_data = load_gtfs_data()
nyc_neighborhoods = load_neighborhood_data()

# Display column names to understand the data structure
print("\nGTFS stops columns:")
print(gtfs_data['stops'].columns.tolist())

print("\nNeighborhood data columns:")
print(nyc_neighborhoods.columns.tolist())

# Check the population data
print("\nPopulation data columns:")
print(population_df.columns.tolist())


# Process subway station data and join with neighborhoods
def process_station_data(stops_df, neighborhoods_gdf):
    # Filter to only include subway stations (not parent stations or entrances)
    stops_df = stops_df[stops_df['location_type'].isin([0, None])]
    
    # Convert stops to GeoDataFrame for spatial analysis
    print("Converting stops to GeoDataFrame...")
    geometry = [Point(xy) for xy in zip(stops_df.stop_lon, stops_df.stop_lat)]
    stops_gdf = gpd.GeoDataFrame(stops_df, geometry=geometry, crs="EPSG:4326")
    
    # Ensure the CRS matches between datasets
    if neighborhoods_gdf.crs != stops_gdf.crs:
        neighborhoods_gdf = neighborhoods_gdf.to_crs(stops_gdf.crs)
    
    # Perform spatial join to assign stops to neighborhoods
    print("Performing spatial join to assign stops to neighborhoods...")
    stops_with_neighborhoods = gpd.sjoin(stops_gdf, neighborhoods_gdf, how="left", op="within")
    
    # Some stops might not fall within any neighborhood due to precision issues
    # Count stations that didn't get assigned to neighborhoods
    unassigned = stops_with_neighborhoods[stops_with_neighborhoods.ntacode.isna()].shape[0]
    print(f"{unassigned} stops could not be assigned to a neighborhood")
    
    # Remove stops that aren't assigned to neighborhoods for our analysis
    stops_with_neighborhoods = stops_with_neighborhoods.dropna(subset=['ntacode'])
    
    return stops_with_neighborhoods

# Calculate transit accessibility metrics
def calculate_accessibility_metrics(stops_with_neighborhoods, neighborhoods_gdf):
    # Calculate basic metrics by neighborhood
    print("Calculating station counts by neighborhood...")
    station_counts = stops_with_neighborhoods.groupby('ntacode').size().reset_index(name='station_count')
    
    # Join metrics back to the neighborhood boundaries
    print("Joining metrics to neighborhood boundaries...")
    neighborhoods_with_metrics = neighborhoods_gdf.merge(station_counts, on='ntacode', how='left')
    
    # Fill NA values with 0 (neighborhoods with no stations)
    neighborhoods_with_metrics['station_count'] = neighborhoods_with_metrics['station_count'].fillna(0)
    
    # Calculate area in square kilometers
    neighborhoods_with_metrics['area_sqkm'] = neighborhoods_with_metrics.geometry.area / 10**6  # Convert to sq km
    
    # Calculate station density (stations per sq km)
    neighborhoods_with_metrics['station_density'] = neighborhoods_with_metrics['station_count'] / neighborhoods_with_metrics['area_sqkm']
    
    # Handle infinite values (divide by zero for very small areas)
    neighborhoods_with_metrics['station_density'] = neighborhoods_with_metrics['station_density'].replace([np.inf, -np.inf], np.nan)
    neighborhoods_with_metrics['station_density'] = neighborhoods_with_metrics['station_density'].fillna(0)
    
    return neighborhoods_with_metrics

# Calculate service frequency metrics
def calculate_service_frequency(stop_times_df, trips_df, calendar_df, stops_with_neighborhoods):
    # Get only weekday service
    weekday_service_ids = calendar_df[calendar_df['monday'] == 1]['service_id'].tolist()
    
    # Filter trips for weekday service
    weekday_trips = trips_df[trips_df['service_id'].isin(weekday_service_ids)]
    
    # Join trips with stop_times to get the schedule (use a sample for performance)
    # Taking a sample to make computation manageable
    sample_stop_times = stop_times_df.sample(n=min(500000, len(stop_times_df)), random_state=42)
    schedule = sample_stop_times.merge(weekday_trips, on='trip_id')
    
    # Extract hour from arrival_time for hourly analysis
    # Handle times like '24:30:00' by converting to integers and taking modulo 24
    schedule['arrival_hour'] = schedule['arrival_time'].str.split(':', expand=True)[0].astype(int) % 24
    
    # Join with stops to get neighborhood information
    schedule_with_stops = schedule.merge(stops_with_neighborhoods[['stop_id', 'ntacode']], on='stop_id')
    
    # Count trips by neighborhood and hour
    hourly_service = schedule_with_stops.groupby(['ntacode', 'arrival_hour']).size().reset_index(name='trip_count')
    
    # Calculate average daily trips per neighborhood
    daily_service = schedule_with_stops.groupby('ntacode').size().reset_index(name='daily_trips')
    
    return hourly_service, daily_service

# Join with population data
def join_population_data(neighborhoods_df, population_df):
    # Prepare population data
    # Adjust column names based on the actual data
    pop_columns = population_df.columns.tolist()
    
    # Identify NTA code and population columns
    nta_col = [col for col in pop_columns if 'NTA' in col and 'Code' in col][0] if any('NTA' in col and 'Code' in col for col in pop_columns) else 'NTA Code'
    pop_col = [col for col in pop_columns if 'Pop' in col][0] if any('Pop' in col for col in pop_columns) else 'Population'
    
    # Rename columns for consistency
    population_df = population_df.rename(columns={nta_col: 'ntacode', pop_col: 'population'})
    
    # Join with neighborhood metrics
    neighborhoods_with_pop = neighborhoods_df.merge(
        population_df[['ntacode', 'population']], 
        on='ntacode', 
        how='left'
    )
    
    # Fill missing values
    neighborhoods_with_pop['population'] = neighborhoods_with_pop['population'].fillna(0)
    
    # Calculate population density
    neighborhoods_with_pop['population_density'] = neighborhoods_with_pop['population'] / neighborhoods_with_pop['area_sqkm']
    
    return neighborhoods_with_pop

# Process the data
stops_with_neighborhoods = process_station_data(gtfs_data['stops'], nyc_neighborhoods)
neighborhoods_with_metrics = calculate_accessibility_metrics(stops_with_neighborhoods, nyc_neighborhoods)
hourly_service, daily_service = calculate_service_frequency(
    gtfs_data['stop_times'], 
    gtfs_data['trips'], 
    gtfs_data['calendar'], 
    stops_with_neighborhoods
)

# Join daily service to our metrics
neighborhoods_with_metrics = neighborhoods_with_metrics.merge(
    daily_service, 
    on='ntacode', 
    how='left'
)
neighborhoods_with_metrics['daily_trips'] = neighborhoods_with_metrics['daily_trips'].fillna(0)

# Try to join with population data
try:
    neighborhoods_with_pop = join_population_data(neighborhoods_with_metrics, population_df)
    print("Population data successfully joined with neighborhood metrics.")
    # Use this dataset for further analysis
    analysis_df = neighborhoods_with_pop
except Exception as e:
    print(f"Could not join population data: {e}")
    print("Continuing with neighborhood metrics without population data.")
    # Use the metrics without population data
    analysis_df = neighborhoods_with_metrics

# Display summary of processed data
print(f"\nProcessed data contains {len(analysis_df)} neighborhoods")
print(f"Neighborhoods with stations: {len(analysis_df[analysis_df['station_count'] > 0])}")
print(f"Neighborhoods without stations: {len(analysis_df[analysis_df['station_count'] == 0])}")


# 1. Choropleth Map
def create_choropleth_map(neighborhoods_gdf, color_column='station_density', title='NYC Subway Station Density'):
    # Create the choropleth map
    fig = px.choropleth_mapbox(
        neighborhoods_gdf,
        geojson=neighborhoods_gdf.__geo_interface__,
        locations=neighborhoods_gdf.index,
        color=color_column,
        color_continuous_scale="Viridis",
        hover_name="ntaname",
        hover_data=["station_count", "station_density", "borough"],
        mapbox_style="carto-positron",
        center={"lat": 40.7128, "lon": -74.0060},
        zoom=9,
        opacity=0.7,
        labels={"station_density": "Stations per sq km"}
    )
    
    fig.update_layout(
        margin={"r":0, "t":30, "l":0, "b":0},
        title=title
    )
    
    return fig

# 2. Bar Chart
def create_station_count_chart(neighborhoods_df, n_neighborhoods=15):
    # Get top n neighborhoods by station count
    top_neighborhoods = neighborhoods_df.sort_values('station_count', ascending=False).head(n_neighborhoods)
    
    # Create the bar chart
    fig = px.bar(
        top_neighborhoods,
        x='ntaname',
        y='station_count',
        color='borough',
        labels={'ntaname': 'Neighborhood', 'station_count': 'Number of Subway Stations', 'borough': 'Borough'},
        title=f'Number of Subway Stations by Neighborhood (Top {n_neighborhoods})'
    )
    
    fig.update_layout(
        xaxis_tickangle=-45,
        xaxis_title='',
        yaxis_title='Number of Stations'
    )
    
    return fig

# 3. Line Chart
def create_service_frequency_chart(hourly_service, neighborhoods_df, top_n=5):
    # Get top neighborhoods by service frequency
    daily_service = hourly_service.groupby('ntacode')['trip_count'].sum().reset_index()
    top_neighborhoods = daily_service.sort_values('trip_count', ascending=False).head(top_n)['ntacode'].tolist()
    
    # Filter hourly service for these neighborhoods
    top_hourly_service = hourly_service[hourly_service['ntacode'].isin(top_neighborhoods)]
    
    # Get neighborhood names
    neighborhood_names = neighborhoods_df.set_index('ntacode')['ntaname'].to_dict()
    top_hourly_service['neighborhood'] = top_hourly_service['ntacode'].map(neighborhood_names)
    
    # Create line chart
    fig = px.line(
        top_hourly_service, 
        x='arrival_hour', 
        y='trip_count', 
        color='neighborhood',
        labels={'arrival_hour': 'Hour of Day', 'trip_count': 'Number of Trains', 'neighborhood': 'Neighborhood'},
        title='Hourly Train Frequency by Neighborhood'
    )
    
    fig.update_layout(
        xaxis=dict(tickmode='linear', tick0=0, dtick=1),
        legend=dict(orientation='h', yanchor='bottom', y=1.02, xanchor='right', x=1)
    )
    
    return fig

# 4. Scatter Plot
def create_scatter_plot(neighborhoods_df):
    # Check if population data is available
    if 'population_density' not in neighborhoods_df.columns:
        # Create a placeholder figure with a message
        fig = go.Figure()
        fig.add_annotation(text="Population data required for this visualization",
                          showarrow=False, font={"size": 20})
        fig.update_layout(title="Population Data Not Available")
        return fig
    
    # Create scatter plot
    fig = px.scatter(
        neighborhoods_df,
        x='population_density',
        y='station_density',
        color='borough',
        hover_name='ntaname',
        size='station_count',  # Size points by station count
        size_max=15,
        labels={
            'population_density': 'Population Density (people/sq km)',
            'station_density': 'Station Density (stations/sq km)',
            'borough': 'Borough'
        },
        title='Subway Station Density vs. Population Density by Neighborhood'
    )
    
    # Add a trendline
    fig.update_layout(
        xaxis_title='Population Density (people/sq km)',
        yaxis_title='Station Density (stations/sq km)'
    )
    
    return fig

# Create all four visualizations
station_density_map = create_choropleth_map(analysis_df)
station_count_chart = create_station_count_chart(analysis_df)
service_frequency_chart = create_service_frequency_chart(hourly_service, analysis_df)
scatter_plot = create_scatter_plot(analysis_df)

# Display the visualizations
display(station_density_map)
display(station_count_chart)
display(service_frequency_chart)
display(scatter_plot)

# Save the processed data for the dashboard
analysis_df.to_file('data/analysis_df.geojson', driver='GeoJSON')
hourly_service.to_csv('data/hourly_service.csv', index=False)

# Analyze transit accessibility patterns
print("\nTop 5 Neighborhoods by Station Density:")
print(analysis_df.sort_values('station_density', ascending=False)[['ntaname', 'borough', 'station_density']].head(5))

print("\nTop 5 Neighborhoods by Daily Transit Service:")
print(analysis_df.sort_values('daily_trips', ascending=False)[['ntaname', 'borough', 'daily_trips']].head(5))

print("\nTransit Accessibility by Borough:")
borough_summary = analysis_df.groupby('borough').agg({
    'station_count': 'sum',
    'daily_trips': 'sum',
    'ntaname': 'count'
}).reset_index()
borough_summary['stations_per_neighborhood'] = borough_summary['station_count'] / borough_summary['ntaname']
borough_summary = borough_summary.rename(columns={'ntaname': 'neighborhood_count'})
print(borough_summary)

# Create a function to help with insights
def find_transit_deserts(neighborhoods_df, population_threshold=10000, station_threshold=1):
    """Find neighborhoods with high population but low transit access."""
    if 'population' not in neighborhoods_df.columns:
        print("Population data is required to identify transit deserts.")
        return pd.DataFrame()
    
    transit_deserts = neighborhoods_df[
        (neighborhoods_df['population'] > population_threshold) & 
        (neighborhoods_df['station_count'] < station_threshold)
    ]
    
    return transit_deserts.sort_values('population', ascending=False)

# Try to identify transit deserts
try:
    transit_deserts = find_transit_deserts(analysis_df)
    print("\nPotential Transit Deserts (High Population, Low Station Count):")
    print(transit_deserts[['ntaname', 'borough', 'population', 'station_count']].head(5))
except Exception as e:
    print(f"\nCould not identify transit deserts: {e}")

print("\n\n### Building the Interactive Dashboard ###")
print("The code below implements a Dash application to make our visualizations interactive.")


# Import JupyterDash to run Dash applications in Jupyter notebooks
from jupyter_dash import JupyterDash
from dash import dcc, html, Input, Output
import dash_bootstrap_components as dbc

# Initialize the Dash app
app = JupyterDash(__name__, external_stylesheets=[dbc.themes.BOOTSTRAP])

# Define the layout
app.layout = html.Div([
    html.H1("NYC Transit Accessibility Dashboard", className="text-center my-4"),
    
    html.P("What does access to public transportation look like across the 5 boroughs?", 
           className="text-center mb-4"),
    
    html.Div([
        html.Div([
            html.Label("Select Borough:"),
            dcc.Dropdown(
                id='borough-dropdown',
                options=[{'label': 'All Boroughs', 'value': 'All'}] + 
                        [{'label': b, 'value': b} for b in analysis_df['borough'].unique()],
                value='All',
                clearable=False
            ),
        ], className="col-md-6"),
        
        html.Div([
            html.Label("Filter by Station Count:"),
            dcc.RangeSlider(
                id='station-count-slider',
                min=0,
                max=int(analysis_df['station_count'].max()),
                value=[0, int(analysis_df['station_count'].max())],
                marks={i: str(i) for i in range(0, int(analysis_df['station_count'].max()) + 1, 5)}
            )
        ], className="col-md-6"),
    ], className="row mb-4"),
    
    html.Div([
        html.Div([
            dcc.Graph(id='station-density-map')
        ], className="col-md-8"),
        
        html.Div([
            dcc.Graph(id='station-count-chart')
        ], className="col-md-4"),
    ], className="row mb-4"),
    
    html.Div([
        html.Div([
            dcc.Graph(id='service-frequency-chart')
        ], className="col-md-6"),
        
        html.Div([
            dcc.Graph(id='scatter-plot')
        ], className="col-md-6"),
    ], className="row"),
    
    html.Div([
        html.H4("About This Dashboard", className="mt-4"),
        html.P("""
            This dashboard explores transit accessibility across New York City's neighborhoods. 
            It analyzes subway station distribution, service frequency, and the relationship between 
            transit access and population density.
        """),
        html.P("""
            Data sources include MTA GTFS data, NYC Neighborhood Tabulation Areas (NTAs), 
            and NYC population statistics.
        """)
    ], className="mt-4")
    
], className="container-fluid")


# Define callbacks to update figures based on inputs
@app.callback(
    [Output('station-density-map', 'figure'),
     Output('station-count-chart', 'figure'),
     Output('service-frequency-chart', 'figure'),
     Output('scatter-plot', 'figure')],
    [Input('borough-dropdown', 'value'),
     Input('station-count-slider', 'value')]
)

def update_figures(selected_borough, station_count_range):
    # Filter data based on inputs
    if selected_borough == 'All':
        filtered_df = analysis_df
    else:
        filtered_df = analysis_df[analysis_df['borough'] == selected_borough]
    
    filtered_df = filtered_df[
        (filtered_df['station_count'] >= station_count_range[0]) & 
        (filtered_df['station_count'] <= station_count_range[1])
    ]
    
    # Update map
    updated_map = create_choropleth_map(filtered_df)
    
    # Update bar chart
    updated_bar = create_station_count_chart(filtered_df)
    
    # Update line chart
    filtered_hourly = hourly_service[hourly_service['ntacode'].isin(filtered_df['ntacode'])]
    updated_line = create_service_frequency_chart(filtered_hourly, filtered_df)
    
    # Update scatter plot
    updated_scatter = create_scatter_plot(filtered_df)
    
    return updated_map, updated_bar, updated_line, updated_scatter

# Run the app
app.run_server(mode='inline')
    
### Analysis of Results

The interactive dashboard reveals several important insights about transit accessibility in NYC:

1. **Geographic Disparity**: Manhattan neighborhoods have significantly higher station density than the outer boroughs. This is visible in both the map and bar chart visualizations.

2. **Service Frequency Patterns**: The line chart shows that service frequency peaks during morning and evening rush hours, but some neighborhoods maintain consistent service throughout the day while others see dramatic drops during off-peak hours.

3. **Population-Transit Relationship**: The scatter plot reveals a general correlation between population density and transit accessibility, but with notable exceptions. Some densely populated areas lack adequate transit service, while other less populated areas have excellent access.

4. **Borough-Level Trends**: Manhattan has the highest overall station density, followed by Brooklyn, the Bronx, Queens, and Staten Island. This reflects both historical development patterns and the challenge of serving lower-density outer boroughs.

5. **Transit Deserts**: Several neighborhoods with substantial populations have minimal or no subway service, particularly in eastern Queens and parts of Staten Island. These areas represent potential transit equity issues.

### Implications for Urban Planning

This analysis has several implications for urban planning and public transit policy:

- **Targeted Expansion**: Transit expansion efforts could prioritize high-population areas with poor access (the "transit deserts" identified).

- **Service Optimization**: Some neighborhoods may benefit more from increased service frequency than new stations, particularly during off-peak hours.

- **Complementary Services**: Areas with poor subway access could benefit from enhanced bus service, bike infrastructure, or other complementary mobility options.

- **Development Planning**: Future residential and commercial development should consider existing transit infrastructure to avoid exacerbating accessibility disparities.



### Conclusion

This dashboard demonstrates how multiple visualization techniques can work together to tell a fuller story about public transit accessibility in New York City. The choropleth map provides geographic context, the bar chart enables precise comparisons, the line chart reveals temporal patterns, and the scatter plot explores relationships between variables.

The interactivity of the dashboard enables users to explore the data from different angles, testing hypotheses and discovering patterns that might not be apparent in static visualizations. This approach is valuable not just for transit analysis, but for many urban planning applications where spatial, comparative, temporal, and relational dimensions all matter.

The Plotly and Dash libraries proved to be excellent choices for this project, providing a powerful and flexible framework for creating interactive visualizations without requiring extensive web development knowledge. While there were some performance challenges with the large GTFS dataset, sampling and preprocessing techniques helped overcome these limitations.

Future enhancements to this dashboard could include:

1. Adding bus data for a more complete view of transit accessibility
2. Incorporating walking time to stations (catchment area analysis)
3. Analyzing historical changes in transit access over time
4. Adding demographic data to explore equity dimensions

Doing this project demonstrated the value of interactive, multi-dimensional data visualization for understanding how NYC moves, which could help shape future transit planning decisions.
